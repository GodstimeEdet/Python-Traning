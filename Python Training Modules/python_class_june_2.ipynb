{
 "cells": [
  {
   "cell_type": "markdown",
   "id": "4a511aa1",
   "metadata": {},
   "source": [
    "# What is Jupyter Notebook\n",
    "\n",
    "The Jupyter Notebook is an open-source web application that allows data scientists to create and share documents that integrate live code, equations, computational output, visualizations, and other multimedia resources,\n",
    "\n",
    "Uses include data cleaning and transformation, numerical simulation, statistical modeling, data visualization, machine learning, and much more."
   ]
  },
  {
   "cell_type": "markdown",
   "id": "d6199b72",
   "metadata": {},
   "source": [
    "## DATA SCIENCE\n",
    "### DATA SCIENCE\n",
    "#### DATA SCIENCE\n",
    "##### DATA SCIENCE"
   ]
  },
  {
   "cell_type": "markdown",
   "id": "49ebae61",
   "metadata": {},
   "source": [
    "# Keywords\n",
    "Keywords in python are reserved words in python and cant be used as identifiers."
   ]
  },
  {
   "cell_type": "code",
   "execution_count": 2,
   "id": "fd567a58",
   "metadata": {},
   "outputs": [],
   "source": [
    "import keyword"
   ]
  },
  {
   "cell_type": "code",
   "execution_count": 3,
   "id": "f45011d1",
   "metadata": {},
   "outputs": [
    {
     "name": "stdout",
     "output_type": "stream",
     "text": [
      "['False', 'None', 'True', 'and', 'as', 'assert', 'async', 'await', 'break', 'class', 'continue', 'def', 'del', 'elif', 'else', 'except', 'finally', 'for', 'from', 'global', 'if', 'import', 'in', 'is', 'lambda', 'nonlocal', 'not', 'or', 'pass', 'raise', 'return', 'try', 'while', 'with', 'yield']\n"
     ]
    }
   ],
   "source": [
    "print(keyword.kwlist)"
   ]
  },
  {
   "cell_type": "markdown",
   "id": "1d85f24a",
   "metadata": {},
   "source": [
    "# VARIABLES "
   ]
  },
  {
   "cell_type": "markdown",
   "id": "7f581964",
   "metadata": {},
   "source": [
    "A Python variable is a reserved memory location to store values.A variable is created the moment you first assign a value to it."
   ]
  },
  {
   "cell_type": "code",
   "execution_count": 4,
   "id": "0d7e735c",
   "metadata": {},
   "outputs": [],
   "source": [
    "Student_name = 'Victor'\n",
    "\n",
    "hsdhgds  = 56"
   ]
  },
  {
   "cell_type": "code",
   "execution_count": 5,
   "id": "71e679c9",
   "metadata": {},
   "outputs": [
    {
     "data": {
      "text/plain": [
       "56"
      ]
     },
     "execution_count": 5,
     "metadata": {},
     "output_type": "execute_result"
    }
   ],
   "source": [
    "hsdhgds"
   ]
  },
  {
   "cell_type": "code",
   "execution_count": 6,
   "id": "6721ccac",
   "metadata": {},
   "outputs": [],
   "source": [
    "studAge = 45  # camel case naming convention\n",
    "\n",
    "Studage = 34   # pascal case naming\n",
    "\n",
    "stud_age_num = 23   #   snake case \n",
    "\n",
    "\n"
   ]
  },
  {
   "cell_type": "code",
   "execution_count": 9,
   "id": "8ef9e95f",
   "metadata": {},
   "outputs": [
    {
     "ename": "SyntaxError",
     "evalue": "invalid syntax (1561547494.py, line 3)",
     "output_type": "error",
     "traceback": [
      "\u001b[1;36m  Cell \u001b[1;32mIn[9], line 3\u001b[1;36m\u001b[0m\n\u001b[1;33m    $myclass  = 'DSA'\u001b[0m\n\u001b[1;37m    ^\u001b[0m\n\u001b[1;31mSyntaxError\u001b[0m\u001b[1;31m:\u001b[0m invalid syntax\n"
     ]
    }
   ],
   "source": [
    " # wrong using symbol in naming a variables\n",
    "\n",
    "$myclass  = 'DSA'\n",
    "\n",
    "@myage1 = 20"
   ]
  },
  {
   "cell_type": "code",
   "execution_count": 10,
   "id": "6b5b53ef",
   "metadata": {},
   "outputs": [
    {
     "ename": "ValueError",
     "evalue": "too many values to unpack (expected 3)",
     "output_type": "error",
     "traceback": [
      "\u001b[1;31m---------------------------------------------------------------------------\u001b[0m",
      "\u001b[1;31mValueError\u001b[0m                                Traceback (most recent call last)",
      "Cell \u001b[1;32mIn[10], line 1\u001b[0m\n\u001b[1;32m----> 1\u001b[0m intvar, floatvar, strvar \u001b[38;5;241m=\u001b[39m \u001b[38;5;241m20\u001b[39m, \u001b[38;5;241m34.66\u001b[39m, \u001b[38;5;124m\"\u001b[39m\u001b[38;5;124mPython Programming lang\u001b[39m\u001b[38;5;124m\"\u001b[39m, \u001b[38;5;124m'\u001b[39m\u001b[38;5;124mBrown\u001b[39m\u001b[38;5;124m'\u001b[39m\n",
      "\u001b[1;31mValueError\u001b[0m: too many values to unpack (expected 3)"
     ]
    }
   ],
   "source": [
    "intvar, floatvar, strvar = 20, 34.66, \"Python Programming lang\", 'Brown'"
   ]
  },
  {
   "cell_type": "code",
   "execution_count": 16,
   "id": "a89d77fa",
   "metadata": {},
   "outputs": [],
   "source": [
    "intvar, floatvar, strvar = 20, 34.66, \"Python Programming lang\"  # multivariable assignment "
   ]
  },
  {
   "cell_type": "code",
   "execution_count": 17,
   "id": "ae92b3f6",
   "metadata": {},
   "outputs": [
    {
     "data": {
      "text/plain": [
       "20"
      ]
     },
     "execution_count": 17,
     "metadata": {},
     "output_type": "execute_result"
    }
   ],
   "source": [
    "intvar"
   ]
  },
  {
   "cell_type": "code",
   "execution_count": 18,
   "id": "c6cfac9b",
   "metadata": {},
   "outputs": [],
   "source": [
    "intvar = 90"
   ]
  },
  {
   "cell_type": "code",
   "execution_count": 19,
   "id": "bdbcda82",
   "metadata": {},
   "outputs": [
    {
     "data": {
      "text/plain": [
       "90"
      ]
     },
     "execution_count": 19,
     "metadata": {},
     "output_type": "execute_result"
    }
   ],
   "source": [
    "intvar"
   ]
  },
  {
   "cell_type": "code",
   "execution_count": 20,
   "id": "813cd3ab",
   "metadata": {},
   "outputs": [],
   "source": [
    "myname = \"VICTOR EKEZIE\""
   ]
  },
  {
   "cell_type": "code",
   "execution_count": 21,
   "id": "b05b76af",
   "metadata": {},
   "outputs": [
    {
     "data": {
      "text/plain": [
       "'VICTOR EKEZIE'"
      ]
     },
     "execution_count": 21,
     "metadata": {},
     "output_type": "execute_result"
    }
   ],
   "source": [
    "myname"
   ]
  },
  {
   "cell_type": "markdown",
   "id": "8a0ca579",
   "metadata": {},
   "source": [
    "# STRING SLICING"
   ]
  },
  {
   "cell_type": "code",
   "execution_count": 22,
   "id": "e4d2878e",
   "metadata": {},
   "outputs": [
    {
     "data": {
      "text/plain": [
       "'VICTOR EKEZIE'"
      ]
     },
     "execution_count": 22,
     "metadata": {},
     "output_type": "execute_result"
    }
   ],
   "source": [
    "myname"
   ]
  },
  {
   "cell_type": "code",
   "execution_count": 28,
   "id": "56882b6c",
   "metadata": {},
   "outputs": [
    {
     "data": {
      "text/plain": [
       "'KEZ'"
      ]
     },
     "execution_count": 28,
     "metadata": {},
     "output_type": "execute_result"
    }
   ],
   "source": [
    "myname[8:11]"
   ]
  },
  {
   "cell_type": "code",
   "execution_count": 29,
   "id": "ecc86a32",
   "metadata": {},
   "outputs": [
    {
     "data": {
      "text/plain": [
       "13"
      ]
     },
     "execution_count": 29,
     "metadata": {},
     "output_type": "execute_result"
    }
   ],
   "source": [
    "len(myname)"
   ]
  },
  {
   "cell_type": "code",
   "execution_count": 36,
   "id": "f3d67fb6",
   "metadata": {},
   "outputs": [
    {
     "data": {
      "text/plain": [
       "'VICTOR EKEZI'"
      ]
     },
     "execution_count": 36,
     "metadata": {},
     "output_type": "execute_result"
    }
   ],
   "source": [
    "myname[:12]"
   ]
  },
  {
   "cell_type": "code",
   "execution_count": 37,
   "id": "94a3465c",
   "metadata": {},
   "outputs": [
    {
     "data": {
      "text/plain": [
       "'E'"
      ]
     },
     "execution_count": 37,
     "metadata": {},
     "output_type": "execute_result"
    }
   ],
   "source": [
    "myname[-1]"
   ]
  },
  {
   "cell_type": "code",
   "execution_count": 38,
   "id": "b4095c78",
   "metadata": {},
   "outputs": [],
   "source": [
    "s1 = 'Data'\n",
    "s2 = \"Science\""
   ]
  },
  {
   "cell_type": "code",
   "execution_count": 41,
   "id": "fb83e6c4",
   "metadata": {},
   "outputs": [],
   "source": [
    "#string   concatenation\n",
    "\n",
    "\n",
    "s3 = s1 +' '+ s2"
   ]
  },
  {
   "cell_type": "code",
   "execution_count": 42,
   "id": "3a1dbc16",
   "metadata": {},
   "outputs": [
    {
     "data": {
      "text/plain": [
       "'Data Science'"
      ]
     },
     "execution_count": 42,
     "metadata": {},
     "output_type": "execute_result"
    }
   ],
   "source": [
    "s3"
   ]
  },
  {
   "cell_type": "markdown",
   "id": "b732444e",
   "metadata": {},
   "source": [
    "# Python Format"
   ]
  },
  {
   "cell_type": "code",
   "execution_count": 1,
   "id": "2d3f1817",
   "metadata": {},
   "outputs": [
    {
     "name": "stdout",
     "output_type": "stream",
     "text": [
      "this  is Apple, this is Banana, and this is Cat\n"
     ]
    }
   ],
   "source": [
    "# format()\n",
    "\n",
    "a = 'Apple'\n",
    "b = 'Banana'\n",
    "c =  'Cat'\n",
    "\n",
    "print('this  is {}, this is {}, and this is {}'.format(a,b,c))"
   ]
  },
  {
   "cell_type": "code",
   "execution_count": 2,
   "id": "1066b392",
   "metadata": {},
   "outputs": [
    {
     "name": "stdout",
     "output_type": "stream",
     "text": [
      "this  is Apple, this is Cat, and this is Banana\n"
     ]
    }
   ],
   "source": [
    "print('this  is {0}, this is {2}, and this is {1}'.format(a,b,c))"
   ]
  },
  {
   "cell_type": "markdown",
   "id": "69a820c8",
   "metadata": {},
   "source": [
    "# OPERATORS"
   ]
  },
  {
   "cell_type": "code",
   "execution_count": 3,
   "id": "c5c29008",
   "metadata": {},
   "outputs": [],
   "source": [
    "#Arithmatic operators\n",
    "\n",
    "num1 = 10\n",
    "num2 = 7"
   ]
  },
  {
   "cell_type": "code",
   "execution_count": 4,
   "id": "4f52f69e",
   "metadata": {},
   "outputs": [
    {
     "data": {
      "text/plain": [
       "10"
      ]
     },
     "execution_count": 4,
     "metadata": {},
     "output_type": "execute_result"
    }
   ],
   "source": [
    "num1 "
   ]
  },
  {
   "cell_type": "code",
   "execution_count": 5,
   "id": "ec926d05",
   "metadata": {},
   "outputs": [
    {
     "data": {
      "text/plain": [
       "7"
      ]
     },
     "execution_count": 5,
     "metadata": {},
     "output_type": "execute_result"
    }
   ],
   "source": [
    "num2"
   ]
  },
  {
   "cell_type": "code",
   "execution_count": 6,
   "id": "5e13eb3f",
   "metadata": {},
   "outputs": [
    {
     "name": "stdout",
     "output_type": "stream",
     "text": [
      "Addition of num1 and num2 17\n",
      "Subtraction of num1 and num2 3\n",
      "Multiplication of num1 and num2 70\n",
      "Division of num1 and num2 1.4285714285714286\n",
      "Floor Division of num1 and num2 1\n",
      "Modulos of num1 and num2 3\n",
      "num2 raised to the power of two is 49\n"
     ]
    }
   ],
   "source": [
    "print('Addition of num1 and num2 {}'.format(num1 + num2))\n",
    "print('Subtraction of num1 and num2 {}'.format(num1 - num2))\n",
    "print('Multiplication of num1 and num2 {}'.format(num1 * num2))\n",
    "print('Division of num1 and num2 {}'.format(num1 / num2))\n",
    "print('Floor Division of num1 and num2 {}'.format(num1 // num2))\n",
    "print('Modulos of num1 and num2 {}'.format(num1 % num2))\n",
    "print('num2 raised to the power of two is {}'.format( num2** 2))"
   ]
  },
  {
   "cell_type": "markdown",
   "id": "a911c343",
   "metadata": {},
   "source": [
    "# Comparison Operators¶"
   ]
  },
  {
   "cell_type": "code",
   "execution_count": 7,
   "id": "0f17e559",
   "metadata": {},
   "outputs": [
    {
     "name": "stdout",
     "output_type": "stream",
     "text": [
      "Is  x  greater  than  y  :-   False\n",
      "Is  x  less  than    y  :-   True\n",
      "Is  x  equal  to    y  :-   False\n",
      "Is  x  not  equal  to  y  :-   True\n",
      "Is  x  greater  than  or  equal  to  y  :-   False\n",
      "Is  x  less  than  or  equal  to  y  :-   True\n"
     ]
    }
   ],
   "source": [
    "x  = 20\n",
    "y  = 30\n",
    "\n",
    "print('Is  x  greater  than  y  :-  ',x>y) \n",
    "print('Is  x  less  than    y  :-  ',x<y) \n",
    "print('Is  x  equal  to    y  :-  ',x==y)\n",
    "print('Is  x  not  equal  to  y  :-  ',x!=y)\n",
    "print('Is  x  greater  than  or  equal  to  y  :-  ',x>=y)\n",
    "print('Is  x  less  than  or  equal  to  y  :-  ',x<=y)\n"
   ]
  },
  {
   "cell_type": "markdown",
   "id": "35ba08cc",
   "metadata": {},
   "source": [
    "# Logical Operators"
   ]
  },
  {
   "cell_type": "code",
   "execution_count": 8,
   "id": "f61fa802",
   "metadata": {},
   "outputs": [
    {
     "name": "stdout",
     "output_type": "stream",
     "text": [
      "Logical  AND  operation  :-   False\n",
      "Logical  OR  operation  :-   True\n",
      "NOT  operation  :-   True\n"
     ]
    }
   ],
   "source": [
    "x = True\n",
    "y = False\n",
    "\n",
    "print('Logical  AND  operation  :-  ',x  and  y)  #  True  if  both  values  are  true\n",
    "print('Logical  OR  operation  :-  ',x  or  y)  #  True  if  either  of  the  values  is  true\n",
    "print('NOT  operation  :-  ',not  y  )  #  True  if  operand  is  false\n"
   ]
  },
  {
   "cell_type": "markdown",
   "id": "d699e1e8",
   "metadata": {},
   "source": [
    "# CONDITIONAL STATEMENT"
   ]
  },
  {
   "cell_type": "raw",
   "id": "8a427462",
   "metadata": {},
   "source": [
    "the conditional statement we have in python are :> if elif else"
   ]
  },
  {
   "cell_type": "markdown",
   "id": "ae04078a",
   "metadata": {},
   "source": [
    "A Python if statement evaluates whether a condition is equal to true or false.\n",
    "\n",
    "The statement will execute a block of code if a specified condition is equal to true. Otherwise, the block of code within the if statement is not executed"
   ]
  },
  {
   "cell_type": "code",
   "execution_count": 9,
   "id": "6882bf80",
   "metadata": {},
   "outputs": [
    {
     "name": "stdout",
     "output_type": "stream",
     "text": [
      "the if statement is true\n"
     ]
    }
   ],
   "source": [
    "x = 5\n",
    "\n",
    "if x == 5:\n",
    "    print('the if statement is true')"
   ]
  },
  {
   "cell_type": "code",
   "execution_count": 10,
   "id": "41665b80",
   "metadata": {},
   "outputs": [],
   "source": [
    "x = 5\n",
    "\n",
    "if x == 3:\n",
    "    print('the if statement is true')"
   ]
  },
  {
   "cell_type": "code",
   "execution_count": 11,
   "id": "655e0086",
   "metadata": {},
   "outputs": [
    {
     "name": "stdout",
     "output_type": "stream",
     "text": [
      "the if block is False\n"
     ]
    }
   ],
   "source": [
    "x = 5\n",
    "\n",
    "if x == 3:\n",
    "    print('the if statement is true')\n",
    "else:\n",
    "    print('the if block is False')"
   ]
  },
  {
   "cell_type": "code",
   "execution_count": 13,
   "id": "4abdf58b",
   "metadata": {},
   "outputs": [
    {
     "name": "stdout",
     "output_type": "stream",
     "text": [
      "this is the actual result\n",
      "we are out of if block\n"
     ]
    }
   ],
   "source": [
    "b = 23 \n",
    "\n",
    "if b < 20:\n",
    "    print('b is a small number')\n",
    "elif (b == 23):\n",
    "    print('this is the actual result')\n",
    "else:\n",
    "    print('you are wrong')\n",
    "print('we are out of if block')"
   ]
  },
  {
   "cell_type": "markdown",
   "id": "9d97f3a0",
   "metadata": {},
   "source": [
    "# input function"
   ]
  },
  {
   "cell_type": "code",
   "execution_count": 16,
   "id": "ae4b0cda",
   "metadata": {},
   "outputs": [
    {
     "name": "stdout",
     "output_type": "stream",
     "text": [
      "Enter a number :\n"
     ]
    }
   ],
   "source": [
    "m = input('Enter a number :')"
   ]
  },
  {
   "cell_type": "code",
   "execution_count": 18,
   "id": "09ab028c",
   "metadata": {},
   "outputs": [
    {
     "name": "stdout",
     "output_type": "stream",
     "text": [
      "Enter a number :15\n",
      "m is a small number\n",
      "we are out of if block\n"
     ]
    }
   ],
   "source": [
    "m = int(input('Enter a number :') )\n",
    "\n",
    "if m < 20:\n",
    "    print('m is a small number')\n",
    "elif (m == 23):\n",
    "    print('this is the actual result')\n",
    "else:\n",
    "    print('you are wrong')\n",
    "print('we are out of if block')"
   ]
  },
  {
   "cell_type": "code",
   "execution_count": 19,
   "id": "cd931b77",
   "metadata": {},
   "outputs": [
    {
     "name": "stdout",
     "output_type": "stream",
     "text": [
      "this is a first if block\n",
      "this is a nested if statement\n",
      "end of the block\n",
      "we are out of if block\n"
     ]
    }
   ],
   "source": [
    "#  Nested if statement\n",
    "\n",
    "i = 2\n",
    "\n",
    "if (i > 0):\n",
    "    print('this is a first if block')\n",
    "    if (i <= 5):\n",
    "        print('this is a nested if statement')\n",
    "        if(i > 5):\n",
    "            print('this is the third if block')\n",
    "        else:\n",
    "            print('end of the block')\n",
    "else:\n",
    "    print('number is out of range')\n",
    "print('we are out of if block')"
   ]
  },
  {
   "cell_type": "markdown",
   "id": "51bbb6e9",
   "metadata": {},
   "source": [
    "# DATA STRUCTURE OR PYTHON CONTAINERS"
   ]
  },
  {
   "cell_type": "markdown",
   "id": "5a5277e7",
   "metadata": {},
   "source": [
    "There are 4 major data structure in python\n",
    "\n",
    "1)List\n",
    "\n",
    "2)Tuple\n",
    "\n",
    "3)Dictonary\n",
    "\n",
    "4)Sets"
   ]
  },
  {
   "cell_type": "markdown",
   "id": "f281fcc5",
   "metadata": {},
   "source": [
    "# LIST"
   ]
  },
  {
   "cell_type": "code",
   "execution_count": 20,
   "id": "f139f90f",
   "metadata": {},
   "outputs": [],
   "source": [
    "list1 = ['physics', 'chemistry', 1997, 2000];\n",
    "list2 = [1, 2, 3, 4, 5, True, 34.5 ];\n",
    "list3 = [\"a\", \"b\", \"c\", \"d\"]"
   ]
  },
  {
   "cell_type": "code",
   "execution_count": 21,
   "id": "8aa27f0e",
   "metadata": {},
   "outputs": [
    {
     "data": {
      "text/plain": [
       "['physics', 'chemistry', 1997, 2000]"
      ]
     },
     "execution_count": 21,
     "metadata": {},
     "output_type": "execute_result"
    }
   ],
   "source": [
    "list1"
   ]
  },
  {
   "cell_type": "code",
   "execution_count": 22,
   "id": "d87f0159",
   "metadata": {},
   "outputs": [
    {
     "data": {
      "text/plain": [
       "[1, 2, 3, 4, 5, True, 34.5]"
      ]
     },
     "execution_count": 22,
     "metadata": {},
     "output_type": "execute_result"
    }
   ],
   "source": [
    "list2"
   ]
  },
  {
   "cell_type": "code",
   "execution_count": 23,
   "id": "b0063a8e",
   "metadata": {},
   "outputs": [],
   "source": [
    "# list constructor\n",
    "\n",
    "lst = list([1,2,3,4,5,6])"
   ]
  },
  {
   "cell_type": "code",
   "execution_count": 24,
   "id": "0d1667b4",
   "metadata": {},
   "outputs": [
    {
     "data": {
      "text/plain": [
       "[1, 2, 3, 4, 5, 6]"
      ]
     },
     "execution_count": 24,
     "metadata": {},
     "output_type": "execute_result"
    }
   ],
   "source": [
    "lst"
   ]
  },
  {
   "cell_type": "code",
   "execution_count": 25,
   "id": "04a6c7af",
   "metadata": {},
   "outputs": [
    {
     "data": {
      "text/plain": [
       "['physics', 'chemistry', 1997, 2000]"
      ]
     },
     "execution_count": 25,
     "metadata": {},
     "output_type": "execute_result"
    }
   ],
   "source": [
    "list1"
   ]
  },
  {
   "cell_type": "code",
   "execution_count": 26,
   "id": "756860df",
   "metadata": {},
   "outputs": [
    {
     "data": {
      "text/plain": [
       "'chemistry'"
      ]
     },
     "execution_count": 26,
     "metadata": {},
     "output_type": "execute_result"
    }
   ],
   "source": [
    "list1[1]"
   ]
  },
  {
   "cell_type": "code",
   "execution_count": 27,
   "id": "73b922d9",
   "metadata": {},
   "outputs": [],
   "source": [
    "list1.append('data')"
   ]
  },
  {
   "cell_type": "code",
   "execution_count": 28,
   "id": "ff4d2073",
   "metadata": {},
   "outputs": [
    {
     "data": {
      "text/plain": [
       "['physics', 'chemistry', 1997, 2000, 'data']"
      ]
     },
     "execution_count": 28,
     "metadata": {},
     "output_type": "execute_result"
    }
   ],
   "source": [
    "list1"
   ]
  },
  {
   "cell_type": "code",
   "execution_count": 29,
   "id": "346ad4fd",
   "metadata": {},
   "outputs": [],
   "source": [
    "list1.insert(2, \"Omoh\")"
   ]
  },
  {
   "cell_type": "code",
   "execution_count": 30,
   "id": "99002ce8",
   "metadata": {},
   "outputs": [
    {
     "data": {
      "text/plain": [
       "['physics', 'chemistry', 'Omoh', 1997, 2000, 'data']"
      ]
     },
     "execution_count": 30,
     "metadata": {},
     "output_type": "execute_result"
    }
   ],
   "source": [
    "list1"
   ]
  },
  {
   "cell_type": "code",
   "execution_count": 31,
   "id": "93adce24",
   "metadata": {},
   "outputs": [],
   "source": [
    "list6 = [100,120,125,123,99,64,58,85,89,63]"
   ]
  },
  {
   "cell_type": "code",
   "execution_count": 32,
   "id": "e96bad14",
   "metadata": {},
   "outputs": [
    {
     "data": {
      "text/plain": [
       "[100, 120, 125, 123, 99, 64, 58, 85, 89, 63]"
      ]
     },
     "execution_count": 32,
     "metadata": {},
     "output_type": "execute_result"
    }
   ],
   "source": [
    "list6"
   ]
  },
  {
   "cell_type": "code",
   "execution_count": 33,
   "id": "a87163d0",
   "metadata": {},
   "outputs": [
    {
     "data": {
      "text/plain": [
       "63"
      ]
     },
     "execution_count": 33,
     "metadata": {},
     "output_type": "execute_result"
    }
   ],
   "source": [
    "list6.pop()"
   ]
  },
  {
   "cell_type": "code",
   "execution_count": 34,
   "id": "4db7bdcd",
   "metadata": {},
   "outputs": [
    {
     "data": {
      "text/plain": [
       "[100, 120, 125, 123, 99, 64, 58, 85, 89]"
      ]
     },
     "execution_count": 34,
     "metadata": {},
     "output_type": "execute_result"
    }
   ],
   "source": [
    "list6"
   ]
  },
  {
   "cell_type": "code",
   "execution_count": 35,
   "id": "5e4ab9ef",
   "metadata": {},
   "outputs": [],
   "source": [
    "list6.extend(list1)"
   ]
  },
  {
   "cell_type": "code",
   "execution_count": 36,
   "id": "0e2db367",
   "metadata": {},
   "outputs": [
    {
     "data": {
      "text/plain": [
       "[100,\n",
       " 120,\n",
       " 125,\n",
       " 123,\n",
       " 99,\n",
       " 64,\n",
       " 58,\n",
       " 85,\n",
       " 89,\n",
       " 'physics',\n",
       " 'chemistry',\n",
       " 'Omoh',\n",
       " 1997,\n",
       " 2000,\n",
       " 'data']"
      ]
     },
     "execution_count": 36,
     "metadata": {},
     "output_type": "execute_result"
    }
   ],
   "source": [
    "list6"
   ]
  },
  {
   "cell_type": "code",
   "execution_count": 38,
   "id": "950290d4",
   "metadata": {},
   "outputs": [
    {
     "data": {
      "text/plain": [
       "list"
      ]
     },
     "execution_count": 38,
     "metadata": {},
     "output_type": "execute_result"
    }
   ],
   "source": [
    "type(list6)"
   ]
  },
  {
   "cell_type": "code",
   "execution_count": 39,
   "id": "eb7d69c2",
   "metadata": {},
   "outputs": [
    {
     "name": "stdout",
     "output_type": "stream",
     "text": [
      "Omoh is in the list\n"
     ]
    }
   ],
   "source": [
    "if 'Omoh' in list6:\n",
    "    print('Omoh is in the list')\n",
    "else:\n",
    "    print('there is no march')"
   ]
  },
  {
   "cell_type": "markdown",
   "id": "595a0c3d",
   "metadata": {},
   "source": [
    "# TUPLES"
   ]
  },
  {
   "cell_type": "raw",
   "id": "81662e7b",
   "metadata": {},
   "source": [
    "A tuple is a collection of objects which ordered and immutable. Tuples are sequences, just like lists. The differences between tuples and lists are, the tuples cannot be changed unlike lists and tuples use parentheses, whereas lists use square brackets."
   ]
  },
  {
   "cell_type": "code",
   "execution_count": 40,
   "id": "4f04056a",
   "metadata": {},
   "outputs": [],
   "source": [
    "tuples = () # perenthesis"
   ]
  },
  {
   "cell_type": "code",
   "execution_count": 41,
   "id": "bf702e61",
   "metadata": {},
   "outputs": [],
   "source": [
    "tup2  =  (10,30,60)\t#  tuple  of  integers  numbers\n",
    "tup3 = (10.77,30.66,60.89)\t# tuple of float numbers\n",
    "tup4 =  ('one','two' , \"three\")\t# tuple of strings\n",
    "tup5  =  ('Data',  25  ,(50,  100),(150,  90))\t#  Nested  tuples\n",
    "tup6  =  (100,  'Data',  17.765)\t#  Tuple  of  mixed  data  types\n",
    "tup7  =  ('Data',  25  ,[50,  100],[150,  90]  ,  {'John'  ,  'David'}  , \n",
    "          (99,22,33))    # tuples of mixed containers"
   ]
  },
  {
   "cell_type": "code",
   "execution_count": 42,
   "id": "9da40efe",
   "metadata": {},
   "outputs": [
    {
     "name": "stdout",
     "output_type": "stream",
     "text": [
      "(10, 30, 60)\n",
      "(10.77, 30.66, 60.89)\n",
      "('one', 'two', 'three')\n",
      "('Data', 25, (50, 100), (150, 90))\n",
      "(100, 'Data', 17.765)\n",
      "('Data', 25, [50, 100], [150, 90], {'David', 'John'}, (99, 22, 33))\n"
     ]
    }
   ],
   "source": [
    "print(tup2)\n",
    "print(tup3)\n",
    "print(tup4)\n",
    "print(tup5)\n",
    "print(tup6)\n",
    "print(tup7)"
   ]
  },
  {
   "cell_type": "code",
   "execution_count": 43,
   "id": "0d4e8aca",
   "metadata": {},
   "outputs": [
    {
     "data": {
      "text/plain": [
       "('Data', 25, [50, 100], [150, 90], {'David', 'John'}, (99, 22, 33))"
      ]
     },
     "execution_count": 43,
     "metadata": {},
     "output_type": "execute_result"
    }
   ],
   "source": [
    "tup7"
   ]
  },
  {
   "cell_type": "code",
   "execution_count": 44,
   "id": "f8b972da",
   "metadata": {},
   "outputs": [
    {
     "data": {
      "text/plain": [
       "25"
      ]
     },
     "execution_count": 44,
     "metadata": {},
     "output_type": "execute_result"
    }
   ],
   "source": [
    "tup7[1]"
   ]
  },
  {
   "cell_type": "code",
   "execution_count": 45,
   "id": "49b0b546",
   "metadata": {},
   "outputs": [
    {
     "data": {
      "text/plain": [
       "6"
      ]
     },
     "execution_count": 45,
     "metadata": {},
     "output_type": "execute_result"
    }
   ],
   "source": [
    "len(tup7)"
   ]
  },
  {
   "cell_type": "code",
   "execution_count": 46,
   "id": "f933c3b2",
   "metadata": {},
   "outputs": [
    {
     "data": {
      "text/plain": [
       "{'David', 'John'}"
      ]
     },
     "execution_count": 46,
     "metadata": {},
     "output_type": "execute_result"
    }
   ],
   "source": [
    "tup7[4]"
   ]
  },
  {
   "cell_type": "code",
   "execution_count": 48,
   "id": "ac79a235",
   "metadata": {},
   "outputs": [
    {
     "data": {
      "text/plain": [
       "22"
      ]
     },
     "execution_count": 48,
     "metadata": {},
     "output_type": "execute_result"
    }
   ],
   "source": [
    "tup7[5][1]"
   ]
  },
  {
   "cell_type": "code",
   "execution_count": 49,
   "id": "4eafb15d",
   "metadata": {},
   "outputs": [
    {
     "data": {
      "text/plain": [
       "(100, 'Data', 17.765)"
      ]
     },
     "execution_count": 49,
     "metadata": {},
     "output_type": "execute_result"
    }
   ],
   "source": [
    "tup6"
   ]
  },
  {
   "cell_type": "code",
   "execution_count": 50,
   "id": "52845b29",
   "metadata": {},
   "outputs": [],
   "source": [
    "del  tup6# global python key word"
   ]
  },
  {
   "cell_type": "code",
   "execution_count": 51,
   "id": "4e787ddc",
   "metadata": {},
   "outputs": [
    {
     "ename": "NameError",
     "evalue": "name 'tup6' is not defined",
     "output_type": "error",
     "traceback": [
      "\u001b[1;31m---------------------------------------------------------------------------\u001b[0m",
      "\u001b[1;31mNameError\u001b[0m                                 Traceback (most recent call last)",
      "Cell \u001b[1;32mIn[51], line 1\u001b[0m\n\u001b[1;32m----> 1\u001b[0m \u001b[43mtup6\u001b[49m\n",
      "\u001b[1;31mNameError\u001b[0m: name 'tup6' is not defined"
     ]
    }
   ],
   "source": [
    "tup6"
   ]
  },
  {
   "cell_type": "code",
   "execution_count": 53,
   "id": "d63d3baf",
   "metadata": {},
   "outputs": [
    {
     "name": "stdout",
     "output_type": "stream",
     "text": [
      "(10.77, 30.66, 60.89)\n"
     ]
    }
   ],
   "source": [
    "print(tup3)\n"
   ]
  },
  {
   "cell_type": "code",
   "execution_count": 54,
   "id": "a637b3d8",
   "metadata": {},
   "outputs": [
    {
     "ename": "AttributeError",
     "evalue": "'tuple' object has no attribute 'append'",
     "output_type": "error",
     "traceback": [
      "\u001b[1;31m---------------------------------------------------------------------------\u001b[0m",
      "\u001b[1;31mAttributeError\u001b[0m                            Traceback (most recent call last)",
      "Cell \u001b[1;32mIn[54], line 1\u001b[0m\n\u001b[1;32m----> 1\u001b[0m \u001b[43mtup3\u001b[49m\u001b[38;5;241;43m.\u001b[39;49m\u001b[43mappend\u001b[49m(\u001b[38;5;241m34\u001b[39m)\n",
      "\u001b[1;31mAttributeError\u001b[0m: 'tuple' object has no attribute 'append'"
     ]
    }
   ],
   "source": [
    "tup3.append(34)"
   ]
  },
  {
   "cell_type": "code",
   "execution_count": 55,
   "id": "ababd31e",
   "metadata": {},
   "outputs": [
    {
     "data": {
      "text/plain": [
       "(10.77, 30.66, 60.89)"
      ]
     },
     "execution_count": 55,
     "metadata": {},
     "output_type": "execute_result"
    }
   ],
   "source": [
    "tup3"
   ]
  },
  {
   "cell_type": "code",
   "execution_count": 56,
   "id": "bb7f8c8c",
   "metadata": {},
   "outputs": [],
   "source": [
    "new_list_tup = list(tup3)"
   ]
  },
  {
   "cell_type": "code",
   "execution_count": 57,
   "id": "3114508e",
   "metadata": {},
   "outputs": [
    {
     "data": {
      "text/plain": [
       "[10.77, 30.66, 60.89]"
      ]
     },
     "execution_count": 57,
     "metadata": {},
     "output_type": "execute_result"
    }
   ],
   "source": [
    "new_list_tup"
   ]
  },
  {
   "cell_type": "code",
   "execution_count": 58,
   "id": "93b17b5d",
   "metadata": {},
   "outputs": [],
   "source": [
    "new_list_tup.append(34)"
   ]
  },
  {
   "cell_type": "code",
   "execution_count": 59,
   "id": "50cb254d",
   "metadata": {},
   "outputs": [
    {
     "data": {
      "text/plain": [
       "[10.77, 30.66, 60.89, 34]"
      ]
     },
     "execution_count": 59,
     "metadata": {},
     "output_type": "execute_result"
    }
   ],
   "source": [
    "new_list_tup"
   ]
  },
  {
   "cell_type": "code",
   "execution_count": 60,
   "id": "0abaff50",
   "metadata": {},
   "outputs": [],
   "source": [
    "tup_convert = tuple(new_list_tup)"
   ]
  },
  {
   "cell_type": "code",
   "execution_count": 61,
   "id": "8db83d0e",
   "metadata": {},
   "outputs": [
    {
     "data": {
      "text/plain": [
       "(10.77, 30.66, 60.89, 34)"
      ]
     },
     "execution_count": 61,
     "metadata": {},
     "output_type": "execute_result"
    }
   ],
   "source": [
    "tup_convert"
   ]
  },
  {
   "cell_type": "markdown",
   "id": "22a8efd2",
   "metadata": {},
   "source": [
    "# SET"
   ]
  },
  {
   "cell_type": "markdown",
   "id": "3ec1bdd6",
   "metadata": {},
   "source": [
    "Mathematically a set is a collection of items not in any particular order. A Python set is similar to this mathematical definition with below additional conditions.\n",
    "\n",
    "The elements in the set cannot be duplicates.\n",
    "\n",
    "The elements in the set are immutable(cannot be modified) but the set as a whole is mutable.\n",
    "\n",
    "There is no index attached to any element in a python set. So they do not support any indexing or slicing operation."
   ]
  },
  {
   "cell_type": "code",
   "execution_count": 1,
   "id": "5958e489",
   "metadata": {},
   "outputs": [],
   "source": [
    "myset = set() # objects of a set"
   ]
  },
  {
   "cell_type": "code",
   "execution_count": 2,
   "id": "34f0d274",
   "metadata": {},
   "outputs": [
    {
     "data": {
      "text/plain": [
       "set"
      ]
     },
     "execution_count": 2,
     "metadata": {},
     "output_type": "execute_result"
    }
   ],
   "source": [
    "type(myset)"
   ]
  },
  {
   "cell_type": "code",
   "execution_count": 3,
   "id": "b7330790",
   "metadata": {},
   "outputs": [],
   "source": [
    "myset = {1,2,3,4,5,6,7}"
   ]
  },
  {
   "cell_type": "code",
   "execution_count": 4,
   "id": "e75ff8b6",
   "metadata": {},
   "outputs": [
    {
     "data": {
      "text/plain": [
       "{1, 2, 3, 4, 5, 6, 7}"
      ]
     },
     "execution_count": 4,
     "metadata": {},
     "output_type": "execute_result"
    }
   ],
   "source": [
    "myset"
   ]
  },
  {
   "cell_type": "code",
   "execution_count": 5,
   "id": "3243533e",
   "metadata": {},
   "outputs": [
    {
     "data": {
      "text/plain": [
       "7"
      ]
     },
     "execution_count": 5,
     "metadata": {},
     "output_type": "execute_result"
    }
   ],
   "source": [
    "len(myset)"
   ]
  },
  {
   "cell_type": "code",
   "execution_count": 6,
   "id": "3fdceda4",
   "metadata": {},
   "outputs": [],
   "source": [
    "myset1 = {1.79,2.08,3.99,4.56,5.45} # Set of float numbers\n",
    "myset2 = {'Data' , 'John' , 'Tyrion'} # Set of Strings\n",
    "myset3  =  {10,20,  \"Hola\",  (11,  22,  32)}  #  Mixed  datatypes\n",
    "\n"
   ]
  },
  {
   "cell_type": "code",
   "execution_count": 8,
   "id": "8a7355cc",
   "metadata": {},
   "outputs": [
    {
     "name": "stdout",
     "output_type": "stream",
     "text": [
      "{1.79, 2.08, 3.99, 4.56, 5.45}\n",
      "{'Data', 'Tyrion', 'John'}\n",
      "{(11, 22, 32), 10, 20, 'Hola'}\n"
     ]
    }
   ],
   "source": [
    "print(myset1)\n",
    "print(myset2)\n",
    "print(myset3)"
   ]
  },
  {
   "cell_type": "code",
   "execution_count": 9,
   "id": "6c20d657",
   "metadata": {},
   "outputs": [],
   "source": [
    "# set member\n",
    "\n",
    "new_set = {'one','two', 'three','four','five'}"
   ]
  },
  {
   "cell_type": "code",
   "execution_count": 10,
   "id": "9b54791c",
   "metadata": {},
   "outputs": [
    {
     "name": "stdout",
     "output_type": "stream",
     "text": [
      "this is correct\n"
     ]
    }
   ],
   "source": [
    "if 'two' in new_set:\n",
    "    print('this is correct')\n",
    "else:\n",
    "    print('this is wrong')"
   ]
  },
  {
   "cell_type": "raw",
   "id": "caf22272",
   "metadata": {},
   "source": [
    "ADD , REMOVE ITEMS IN A SET"
   ]
  },
  {
   "cell_type": "code",
   "execution_count": 11,
   "id": "c2a8a807",
   "metadata": {},
   "outputs": [
    {
     "data": {
      "text/plain": [
       "{1, 2, 3, 4, 5, 6, 7}"
      ]
     },
     "execution_count": 11,
     "metadata": {},
     "output_type": "execute_result"
    }
   ],
   "source": [
    "myset"
   ]
  },
  {
   "cell_type": "code",
   "execution_count": 12,
   "id": "8d5a4fc9",
   "metadata": {},
   "outputs": [],
   "source": [
    "myset.add(34)"
   ]
  },
  {
   "cell_type": "code",
   "execution_count": 14,
   "id": "56e01dfd",
   "metadata": {},
   "outputs": [
    {
     "data": {
      "text/plain": [
       "{1, 2, 3, 4, 5, 6, 7, 34}"
      ]
     },
     "execution_count": 14,
     "metadata": {},
     "output_type": "execute_result"
    }
   ],
   "source": [
    "myset"
   ]
  },
  {
   "cell_type": "code",
   "execution_count": 15,
   "id": "be64af66",
   "metadata": {},
   "outputs": [],
   "source": [
    "A  =  {1,2,3,4,5}\n",
    "B  =  {4,5,6,7,8}\n",
    "C  =  {8,9,10}\n"
   ]
  },
  {
   "cell_type": "code",
   "execution_count": 16,
   "id": "96b4b721",
   "metadata": {},
   "outputs": [
    {
     "data": {
      "text/plain": [
       "{1, 2, 3, 4, 5, 6, 7, 8}"
      ]
     },
     "execution_count": 16,
     "metadata": {},
     "output_type": "execute_result"
    }
   ],
   "source": [
    "A.union(B)"
   ]
  },
  {
   "cell_type": "code",
   "execution_count": 17,
   "id": "3dc8eebc",
   "metadata": {},
   "outputs": [
    {
     "data": {
      "text/plain": [
       "{1, 2, 3, 4, 5, 6, 7, 8, 9, 10}"
      ]
     },
     "execution_count": 17,
     "metadata": {},
     "output_type": "execute_result"
    }
   ],
   "source": [
    "A | B | C"
   ]
  },
  {
   "cell_type": "code",
   "execution_count": 18,
   "id": "def45dc2",
   "metadata": {},
   "outputs": [
    {
     "data": {
      "text/plain": [
       "{4, 5}"
      ]
     },
     "execution_count": 18,
     "metadata": {},
     "output_type": "execute_result"
    }
   ],
   "source": [
    "# intersection\n",
    "\n",
    "A.intersection(B)"
   ]
  },
  {
   "cell_type": "code",
   "execution_count": 19,
   "id": "0267e4da",
   "metadata": {},
   "outputs": [
    {
     "data": {
      "text/plain": [
       "{6, 7, 8}"
      ]
     },
     "execution_count": 19,
     "metadata": {},
     "output_type": "execute_result"
    }
   ],
   "source": [
    "B.difference(A)"
   ]
  },
  {
   "cell_type": "markdown",
   "id": "48a9689d",
   "metadata": {},
   "source": [
    "# DICTIONARY"
   ]
  },
  {
   "cell_type": "markdown",
   "id": "b4607450",
   "metadata": {},
   "source": [
    "Dictionary is a mutable data type in Python. A python dictionary is a collection of key and value pairs separated by a colon (:) & enclosed in curly braces {}. Keys must be unique in a dictionary, duplicate values are allowed"
   ]
  },
  {
   "cell_type": "code",
   "execution_count": 21,
   "id": "909c57cb",
   "metadata": {},
   "outputs": [
    {
     "data": {
      "text/plain": [
       "{}"
      ]
     },
     "execution_count": 21,
     "metadata": {},
     "output_type": "execute_result"
    }
   ],
   "source": [
    "# dictionary creation\n",
    "\n",
    "mydict = dict()\n",
    "\n",
    "mydict"
   ]
  },
  {
   "cell_type": "raw",
   "id": "ecfb3f1d",
   "metadata": {},
   "source": [
    "{key1: values1, key2: values2}"
   ]
  },
  {
   "cell_type": "code",
   "execution_count": 22,
   "id": "61327888",
   "metadata": {},
   "outputs": [],
   "source": [
    "newdict  = {'name': 'Omoh', 'age':20, 'department':'Data Science'}"
   ]
  },
  {
   "cell_type": "code",
   "execution_count": 23,
   "id": "2f1351ae",
   "metadata": {},
   "outputs": [
    {
     "data": {
      "text/plain": [
       "{'name': 'Omoh', 'age': 20, 'department': 'Data Science'}"
      ]
     },
     "execution_count": 23,
     "metadata": {},
     "output_type": "execute_result"
    }
   ],
   "source": [
    "newdict"
   ]
  },
  {
   "cell_type": "code",
   "execution_count": 24,
   "id": "fcc0bad2",
   "metadata": {},
   "outputs": [
    {
     "data": {
      "text/plain": [
       "dict_keys(['name', 'age', 'department'])"
      ]
     },
     "execution_count": 24,
     "metadata": {},
     "output_type": "execute_result"
    }
   ],
   "source": [
    "newdict.keys()"
   ]
  },
  {
   "cell_type": "code",
   "execution_count": 25,
   "id": "2a187a63",
   "metadata": {},
   "outputs": [
    {
     "data": {
      "text/plain": [
       "dict_values(['Omoh', 20, 'Data Science'])"
      ]
     },
     "execution_count": 25,
     "metadata": {},
     "output_type": "execute_result"
    }
   ],
   "source": [
    "newdict.values()"
   ]
  },
  {
   "cell_type": "code",
   "execution_count": 53,
   "id": "e44ce7ee",
   "metadata": {},
   "outputs": [
    {
     "data": {
      "text/plain": [
       "'Omoh'"
      ]
     },
     "execution_count": 53,
     "metadata": {},
     "output_type": "execute_result"
    }
   ],
   "source": [
    "newdict['name']"
   ]
  },
  {
   "cell_type": "code",
   "execution_count": 54,
   "id": "fc93c669",
   "metadata": {},
   "outputs": [],
   "source": [
    "newdict['price'] = 250000"
   ]
  },
  {
   "cell_type": "code",
   "execution_count": 55,
   "id": "52e1c7e5",
   "metadata": {},
   "outputs": [
    {
     "data": {
      "text/plain": [
       "{'name': 'Omoh', 'age': 20, 'department': 'Data Science', 'price': 250000}"
      ]
     },
     "execution_count": 55,
     "metadata": {},
     "output_type": "execute_result"
    }
   ],
   "source": [
    "newdict"
   ]
  },
  {
   "cell_type": "markdown",
   "id": "eff40b5c",
   "metadata": {},
   "source": [
    "# PYTHON LOOP STATEMENT"
   ]
  },
  {
   "cell_type": "code",
   "execution_count": 27,
   "id": "af0e9183",
   "metadata": {},
   "outputs": [],
   "source": [
    "# while and for loop"
   ]
  },
  {
   "cell_type": "markdown",
   "id": "cd6500bd",
   "metadata": {},
   "source": [
    "WHILE LOOP"
   ]
  },
  {
   "cell_type": "code",
   "execution_count": 28,
   "id": "80d4695e",
   "metadata": {},
   "outputs": [
    {
     "name": "stdout",
     "output_type": "stream",
     "text": [
      "data science class\n",
      "data science class\n",
      "data science class\n",
      "data science class\n",
      "data science class\n",
      "data science class\n",
      "data science class\n",
      "data science class\n",
      "data science class\n",
      "data science class\n",
      "data science class\n",
      "data science class\n",
      "data science class\n",
      "data science class\n",
      "data science class\n",
      "data science class\n",
      "data science class\n",
      "data science class\n",
      "data science class\n"
     ]
    }
   ],
   "source": [
    "i = 1\n",
    "while i < 20:\n",
    "    print('data science class')\n",
    "    i = i + 1"
   ]
  },
  {
   "cell_type": "code",
   "execution_count": 30,
   "id": "8e91cf7d",
   "metadata": {},
   "outputs": [
    {
     "name": "stdout",
     "output_type": "stream",
     "text": [
      "1\n",
      "2\n"
     ]
    }
   ],
   "source": [
    "# BREAK \n",
    "\n",
    "i = 1\n",
    "\n",
    "while i < 6:\n",
    "    if i ==3:\n",
    "        break\n",
    "    print(i)\n",
    "    i = i +1"
   ]
  },
  {
   "cell_type": "code",
   "execution_count": 31,
   "id": "46351558",
   "metadata": {},
   "outputs": [
    {
     "name": "stdout",
     "output_type": "stream",
     "text": [
      "1\n",
      "2\n",
      "4\n",
      "5\n",
      "6\n"
     ]
    }
   ],
   "source": [
    "b =  0\n",
    "\n",
    "while b < 6:\n",
    "    b +=1   #increamentation\n",
    "    if b == 3:\n",
    "        continue\n",
    "    print(b)"
   ]
  },
  {
   "cell_type": "markdown",
   "id": "18348617",
   "metadata": {},
   "source": [
    "FOR LOOP"
   ]
  },
  {
   "cell_type": "code",
   "execution_count": 32,
   "id": "0a7923b8",
   "metadata": {},
   "outputs": [
    {
     "name": "stdout",
     "output_type": "stream",
     "text": [
      "12\n",
      "2\n",
      "3\n",
      "44\n",
      "5\n",
      "5\n",
      "65\n",
      "6\n"
     ]
    }
   ],
   "source": [
    "loop1 = [12,2,3,44,5,5,65,6]\n",
    "\n",
    "\n",
    "for i in loop1:\n",
    "    print(i)"
   ]
  },
  {
   "cell_type": "code",
   "execution_count": 33,
   "id": "64a5ca3d",
   "metadata": {},
   "outputs": [
    {
     "name": "stdout",
     "output_type": "stream",
     "text": [
      "0\n",
      "1\n",
      "2\n",
      "3\n",
      "4\n",
      "5\n",
      "6\n",
      "7\n",
      "8\n",
      "9\n"
     ]
    }
   ],
   "source": [
    "for m in range(0,10):\n",
    "    print(m)"
   ]
  },
  {
   "cell_type": "code",
   "execution_count": 34,
   "id": "777204e6",
   "metadata": {},
   "outputs": [
    {
     "name": "stdout",
     "output_type": "stream",
     "text": [
      "EVEN\n",
      "ODD\n",
      "EVEN\n",
      "ODD\n",
      "EVEN\n",
      "ODD\n",
      "EVEN\n",
      "ODD\n",
      "EVEN\n",
      "ODD\n"
     ]
    }
   ],
   "source": [
    "for m in range(0,10):\n",
    "    if (m%2 == 0):\n",
    "        print('EVEN')\n",
    "    else:\n",
    "        print('ODD')"
   ]
  },
  {
   "cell_type": "code",
   "execution_count": 41,
   "id": "167ac469",
   "metadata": {},
   "outputs": [],
   "source": [
    "even = []\n",
    "odd = []\n",
    "\n",
    "for m in range(0,20,3):\n",
    "    if (m%2 == 0):\n",
    "        even.append(m)\n",
    "    else:\n",
    "        odd.append(m)"
   ]
  },
  {
   "cell_type": "code",
   "execution_count": 42,
   "id": "68d02745",
   "metadata": {},
   "outputs": [
    {
     "data": {
      "text/plain": [
       "[0, 6, 12, 18]"
      ]
     },
     "execution_count": 42,
     "metadata": {},
     "output_type": "execute_result"
    }
   ],
   "source": [
    "even"
   ]
  },
  {
   "cell_type": "code",
   "execution_count": 43,
   "id": "df86fbde",
   "metadata": {},
   "outputs": [
    {
     "data": {
      "text/plain": [
       "[3, 9, 15]"
      ]
     },
     "execution_count": 43,
     "metadata": {},
     "output_type": "execute_result"
    }
   ],
   "source": [
    "odd"
   ]
  },
  {
   "cell_type": "code",
   "execution_count": 44,
   "id": "d09fa317",
   "metadata": {},
   "outputs": [],
   "source": [
    "savAcctList = ['Kenneth', 'Stella', 'Mercy', 'Chizulum', 'Clifford', 'Boniface', 'Tosin']\n",
    "AcctBals = [2335,546,9086,75,7896,356,32678]\n",
    "acctType = ['Curr', 'Sav','Curr','Inv','Curr','Sav','Inv']\n",
    "numYearsOperated  = [5,23,12,2,5,7,8]"
   ]
  },
  {
   "cell_type": "code",
   "execution_count": 45,
   "id": "09892bcf",
   "metadata": {},
   "outputs": [
    {
     "name": "stdout",
     "output_type": "stream",
     "text": [
      "Kenneth 2335 Curr 5\n",
      "Stella 546 Sav 23\n",
      "Mercy 9086 Curr 12\n",
      "Chizulum 75 Inv 2\n",
      "Clifford 7896 Curr 5\n",
      "Boniface 356 Sav 7\n",
      "Tosin 32678 Inv 8\n"
     ]
    }
   ],
   "source": [
    "for customer, balance, accountType, numyears in zip(savAcctList, AcctBals,acctType,numYearsOperated):\n",
    "    print(customer, balance, accountType, numyears)"
   ]
  },
  {
   "cell_type": "code",
   "execution_count": 52,
   "id": "7db5b08a",
   "metadata": {},
   "outputs": [
    {
     "name": "stdout",
     "output_type": "stream",
     "text": [
      "{'accountType': 'Curr', 'balance': 2335, 'numyears': 5}\n",
      "{'accountType': 'Sav', 'balance': 546, 'numyears': 23}\n",
      "{'accountType': 'Curr', 'balance': 9086, 'numyears': 12}\n",
      "{'accountType': 'Inv', 'balance': 75, 'numyears': 2}\n",
      "{'accountType': 'Curr', 'balance': 7896, 'numyears': 5}\n",
      "{'accountType': 'Sav', 'balance': 356, 'numyears': 7}\n",
      "{'accountType': 'Inv', 'balance': 32678, 'numyears': 8}\n"
     ]
    }
   ],
   "source": [
    "for customer, balance, types, numyears in zip(savAcctList, AcctBals,acctType,numYearsOperated):\n",
    "    #print(customer, balance, accountType, numyears)\n",
    "    \n",
    "    cust_dict = {}\n",
    "    # adding items into a dictionary\n",
    "    cust_dict['accountType'] = types\n",
    "    cust_dict['balance'] = balance\n",
    "    cust_dict['numyears'] = numyears\n",
    "\n",
    "\n",
    "    print(cust_dict)\n",
    "    "
   ]
  },
  {
   "cell_type": "code",
   "execution_count": 61,
   "id": "e37031f4",
   "metadata": {},
   "outputs": [],
   "source": [
    "# Nested dictionary\n",
    "\n",
    "bankRecDict = dict()\n",
    "\n",
    "for customer, balance, accountType, numyears in zip(savAcctList, AcctBals,acctType,numYearsOperated):\n",
    "    #print(customer, balance, accountType, numyears)\n",
    "    \n",
    "    cust_dict = {}\n",
    "    # adding items into a dictionary\n",
    "    cust_dict['accountType'] = accountType\n",
    "    cust_dict['balance'] = balance\n",
    "    cust_dict['numyears'] = numyears\n",
    "    \n",
    "    bankRecDict[customer] = cust_dict\n",
    "    \n",
    "    \n",
    "\n",
    "\n"
   ]
  },
  {
   "cell_type": "code",
   "execution_count": 62,
   "id": "10ef30bd",
   "metadata": {},
   "outputs": [
    {
     "data": {
      "text/plain": [
       "{'Kenneth': {'accountType': 'Curr', 'balance': 2335, 'numyears': 5},\n",
       " 'Stella': {'accountType': 'Sav', 'balance': 546, 'numyears': 23},\n",
       " 'Mercy': {'accountType': 'Curr', 'balance': 9086, 'numyears': 12},\n",
       " 'Chizulum': {'accountType': 'Inv', 'balance': 75, 'numyears': 2},\n",
       " 'Clifford': {'accountType': 'Curr', 'balance': 7896, 'numyears': 5},\n",
       " 'Boniface': {'accountType': 'Sav', 'balance': 356, 'numyears': 7},\n",
       " 'Tosin': {'accountType': 'Inv', 'balance': 32678, 'numyears': 8}}"
      ]
     },
     "execution_count": 62,
     "metadata": {},
     "output_type": "execute_result"
    }
   ],
   "source": [
    "bankRecDict"
   ]
  },
  {
   "cell_type": "code",
   "execution_count": 57,
   "id": "8b6dec76",
   "metadata": {},
   "outputs": [
    {
     "name": "stdout",
     "output_type": "stream",
     "text": [
      "{'accountType': 'Inv', 'balance': 32678, 'numyears': 8}\n"
     ]
    }
   ],
   "source": [
    "print(cust_dict)"
   ]
  },
  {
   "cell_type": "code",
   "execution_count": 63,
   "id": "68164a25",
   "metadata": {},
   "outputs": [
    {
     "data": {
      "text/plain": [
       "{'accountType': 'Curr', 'balance': 2335, 'numyears': 5}"
      ]
     },
     "execution_count": 63,
     "metadata": {},
     "output_type": "execute_result"
    }
   ],
   "source": [
    "bankRecDict['Kenneth']"
   ]
  },
  {
   "cell_type": "code",
   "execution_count": null,
   "id": "b94979ec",
   "metadata": {},
   "outputs": [],
   "source": []
  },
  {
   "cell_type": "code",
   "execution_count": null,
   "id": "2909b06b",
   "metadata": {},
   "outputs": [],
   "source": []
  },
  {
   "cell_type": "code",
   "execution_count": null,
   "id": "61a1673c",
   "metadata": {},
   "outputs": [],
   "source": []
  },
  {
   "cell_type": "code",
   "execution_count": null,
   "id": "bd60df55",
   "metadata": {},
   "outputs": [],
   "source": []
  },
  {
   "cell_type": "code",
   "execution_count": null,
   "id": "8e777291",
   "metadata": {},
   "outputs": [],
   "source": []
  },
  {
   "cell_type": "code",
   "execution_count": null,
   "id": "8a50a451",
   "metadata": {},
   "outputs": [],
   "source": []
  },
  {
   "cell_type": "code",
   "execution_count": null,
   "id": "d54c741a",
   "metadata": {},
   "outputs": [],
   "source": []
  },
  {
   "cell_type": "code",
   "execution_count": null,
   "id": "ceeb5916",
   "metadata": {},
   "outputs": [],
   "source": []
  },
  {
   "cell_type": "code",
   "execution_count": null,
   "id": "d66caf86",
   "metadata": {},
   "outputs": [],
   "source": []
  },
  {
   "cell_type": "code",
   "execution_count": null,
   "id": "918eb0b7",
   "metadata": {},
   "outputs": [],
   "source": []
  },
  {
   "cell_type": "code",
   "execution_count": null,
   "id": "0e62bcc6",
   "metadata": {},
   "outputs": [],
   "source": []
  },
  {
   "cell_type": "code",
   "execution_count": null,
   "id": "d32a1e4e",
   "metadata": {},
   "outputs": [],
   "source": []
  },
  {
   "cell_type": "code",
   "execution_count": null,
   "id": "3a732b73",
   "metadata": {},
   "outputs": [],
   "source": []
  },
  {
   "cell_type": "code",
   "execution_count": null,
   "id": "6421a7ac",
   "metadata": {},
   "outputs": [],
   "source": []
  },
  {
   "cell_type": "code",
   "execution_count": null,
   "id": "c9b18011",
   "metadata": {},
   "outputs": [],
   "source": []
  },
  {
   "cell_type": "code",
   "execution_count": null,
   "id": "4ec59b66",
   "metadata": {},
   "outputs": [],
   "source": []
  },
  {
   "cell_type": "code",
   "execution_count": null,
   "id": "27fff4f3",
   "metadata": {},
   "outputs": [],
   "source": []
  },
  {
   "cell_type": "code",
   "execution_count": null,
   "id": "ac2391eb",
   "metadata": {},
   "outputs": [],
   "source": []
  },
  {
   "cell_type": "code",
   "execution_count": null,
   "id": "d5aa95f4",
   "metadata": {},
   "outputs": [],
   "source": []
  },
  {
   "cell_type": "code",
   "execution_count": null,
   "id": "0911f392",
   "metadata": {},
   "outputs": [],
   "source": []
  },
  {
   "cell_type": "code",
   "execution_count": null,
   "id": "43c235cf",
   "metadata": {},
   "outputs": [],
   "source": []
  },
  {
   "cell_type": "code",
   "execution_count": null,
   "id": "6f92e8a8",
   "metadata": {},
   "outputs": [],
   "source": []
  },
  {
   "cell_type": "code",
   "execution_count": null,
   "id": "567de5e4",
   "metadata": {},
   "outputs": [],
   "source": []
  },
  {
   "cell_type": "code",
   "execution_count": null,
   "id": "f1f7b60f",
   "metadata": {},
   "outputs": [],
   "source": []
  }
 ],
 "metadata": {
  "kernelspec": {
   "display_name": "Python 3 (ipykernel)",
   "language": "python",
   "name": "python3"
  },
  "language_info": {
   "codemirror_mode": {
    "name": "ipython",
    "version": 3
   },
   "file_extension": ".py",
   "mimetype": "text/x-python",
   "name": "python",
   "nbconvert_exporter": "python",
   "pygments_lexer": "ipython3",
   "version": "3.10.9"
  }
 },
 "nbformat": 4,
 "nbformat_minor": 5
}
